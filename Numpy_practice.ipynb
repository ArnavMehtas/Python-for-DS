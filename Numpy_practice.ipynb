{
 "cells": [
  {
   "cell_type": "markdown",
   "id": "059d6d9b-f88f-43e6-a3a5-1921ae9f6a55",
   "metadata": {},
   "source": [
    "# NUMPY \n"
   ]
  },
  {
   "cell_type": "markdown",
   "id": "0684075f-61c3-41c3-931c-67e7087a8e46",
   "metadata": {},
   "source": [
    "## Array Operations Practice:\n",
    "\n"
   ]
  },
  {
   "cell_type": "markdown",
   "id": "f605384c-6b97-40f6-8394-3e4ba51ff13e",
   "metadata": {},
   "source": [
    "#### Create and manipulate arrays: slicing, indexing, and reshaping.\n"
   ]
  },
  {
   "cell_type": "code",
   "execution_count": 1,
   "id": "5b216d0c-6635-430d-a764-efd822cb8c34",
   "metadata": {},
   "outputs": [],
   "source": [
    "import numpy as np"
   ]
  },
  {
   "cell_type": "code",
   "execution_count": 6,
   "id": "ddedd84a-c2c2-4387-a199-3cd757b1774f",
   "metadata": {},
   "outputs": [
    {
     "name": "stdout",
     "output_type": "stream",
     "text": [
      "[1 2 3 4 5]\n"
     ]
    },
    {
     "data": {
      "text/plain": [
       "(5,)"
      ]
     },
     "execution_count": 6,
     "metadata": {},
     "output_type": "execute_result"
    }
   ],
   "source": [
    "#One-dimentional array\n",
    "my_list=[1,2,3,4,5]\n",
    "arr=np.array(my_list)\n",
    "print(arr)\n",
    "type(arr)\n",
    "arr.shape"
   ]
  },
  {
   "cell_type": "code",
   "execution_count": 21,
   "id": "e3d24b10-9a4c-4f76-83d2-487583e0f8bc",
   "metadata": {},
   "outputs": [
    {
     "name": "stdout",
     "output_type": "stream",
     "text": [
      "[[1 2 3 4 5]\n",
      " [2 3 4 5 6]\n",
      " [9 7 6 8 9]]\n",
      "(3, 5)\n",
      "NOTE- in (x,y), x represents number of rows & y represents number of columns\n"
     ]
    }
   ],
   "source": [
    "#multi-dimentional/Nested arrays\n",
    "my_list1=[1,2,3,4,5]\n",
    "my_list2=[2,3,4,5,6]\n",
    "my_list3=[9,7,6,8,9]\n",
    "arr=np.array([my_list1,my_list2,my_list3])\n",
    "print(arr)\n",
    "print(arr.shape)\n",
    "print(\"NOTE- in (x,y), x represents number of rows & y represents number of columns\")"
   ]
  },
  {
   "cell_type": "markdown",
   "id": "50e716dc-1eff-4689-a2c3-ba092f317112",
   "metadata": {},
   "source": [
    "- Reshaping the array:"
   ]
  },
  {
   "cell_type": "code",
   "execution_count": 14,
   "id": "7733be07-d6d7-4283-9f17-4bed41d59cd6",
   "metadata": {},
   "outputs": [
    {
     "data": {
      "text/plain": [
       "array([[1, 2, 3],\n",
       "       [4, 5, 2],\n",
       "       [3, 4, 5],\n",
       "       [6, 9, 7],\n",
       "       [6, 8, 9]])"
      ]
     },
     "execution_count": 14,
     "metadata": {},
     "output_type": "execute_result"
    }
   ],
   "source": [
    "arr.reshape(5,3)"
   ]
  },
  {
   "cell_type": "code",
   "execution_count": 15,
   "id": "86f1f444-34eb-4908-8234-048a48b39b74",
   "metadata": {},
   "outputs": [],
   "source": [
    "# note that we can not reshape the array into ANY term randomly. For example, arr.reshape(6,4) wont work as array is of just size 15."
   ]
  },
  {
   "cell_type": "code",
   "execution_count": 17,
   "id": "c4742c4d-0a0a-4772-94e5-7abe119c1463",
   "metadata": {},
   "outputs": [
    {
     "data": {
      "text/plain": [
       "array([[1, 2, 3, 4, 5, 2, 3, 4, 5, 6, 9, 7, 6, 8, 9]])"
      ]
     },
     "execution_count": 17,
     "metadata": {},
     "output_type": "execute_result"
    }
   ],
   "source": [
    "arr.reshape(1,15)"
   ]
  },
  {
   "cell_type": "markdown",
   "id": "b377a328-ad65-44c2-9b9f-ee3b7f9dfe2a",
   "metadata": {},
   "source": [
    "- Indexing:"
   ]
  },
  {
   "cell_type": "code",
   "execution_count": 18,
   "id": "0230c5f7-af9d-4427-9fd0-fa49e62a59e6",
   "metadata": {},
   "outputs": [],
   "source": [
    "arr=np.array([1,2,3,4,5,6,7,8,9])"
   ]
  },
  {
   "cell_type": "code",
   "execution_count": 19,
   "id": "fcf277b3-72fd-4b79-8652-5146d5f87a91",
   "metadata": {},
   "outputs": [
    {
     "data": {
      "text/plain": [
       "4"
      ]
     },
     "execution_count": 19,
     "metadata": {},
     "output_type": "execute_result"
    }
   ],
   "source": [
    "arr[3]"
   ]
  },
  {
   "cell_type": "code",
   "execution_count": 20,
   "id": "45d60f77-92e5-4787-a296-cb9f4621638e",
   "metadata": {},
   "outputs": [
    {
     "data": {
      "text/plain": [
       "array([1, 2, 3, 4, 5, 6, 7, 8, 9])"
      ]
     },
     "execution_count": 20,
     "metadata": {},
     "output_type": "execute_result"
    }
   ],
   "source": [
    "arr"
   ]
  },
  {
   "cell_type": "code",
   "execution_count": 22,
   "id": "5b46662a-1b22-4a99-a27a-84f920a06062",
   "metadata": {},
   "outputs": [
    {
     "data": {
      "text/plain": [
       "array([[1, 2, 3, 4, 5],\n",
       "       [2, 3, 4, 5, 6],\n",
       "       [9, 7, 6, 8, 9]])"
      ]
     },
     "execution_count": 22,
     "metadata": {},
     "output_type": "execute_result"
    }
   ],
   "source": [
    "#For 2 dimention:\n",
    "arr"
   ]
  },
  {
   "cell_type": "code",
   "execution_count": 23,
   "id": "c55a28b4-58c4-4862-9e88-ed8201264995",
   "metadata": {},
   "outputs": [
    {
     "data": {
      "text/plain": [
       "array([9, 7, 6, 8, 9])"
      ]
     },
     "execution_count": 23,
     "metadata": {},
     "output_type": "execute_result"
    }
   ],
   "source": [
    "arr[2]\n",
    "#This provides us with the row at index 2."
   ]
  },
  {
   "cell_type": "code",
   "execution_count": 24,
   "id": "69cb548e-7d2a-40d7-8e16-5b890f14ce94",
   "metadata": {},
   "outputs": [
    {
     "data": {
      "text/plain": [
       "7"
      ]
     },
     "execution_count": 24,
     "metadata": {},
     "output_type": "execute_result"
    }
   ],
   "source": [
    "arr[2][1]\n",
    "#This provides us the element at row index 2 and column index 1."
   ]
  },
  {
   "cell_type": "markdown",
   "id": "9ad1d681-e32d-4b69-b3cc-8c6f627f3e6e",
   "metadata": {},
   "source": [
    "- Slicing:"
   ]
  },
  {
   "cell_type": "code",
   "execution_count": 29,
   "id": "44126f13-3c43-4fe5-a6e5-53a6c875d075",
   "metadata": {},
   "outputs": [
    {
     "data": {
      "text/plain": [
       "array([[1, 2, 3],\n",
       "       [2, 3, 4]])"
      ]
     },
     "execution_count": 29,
     "metadata": {},
     "output_type": "execute_result"
    }
   ],
   "source": [
    "# In arr[ a , b ] , a--> row slicing & b--> col slicing\n",
    "arr[0:2,0:3]"
   ]
  },
  {
   "cell_type": "code",
   "execution_count": 30,
   "id": "1562787b-770b-4c92-b82d-d6eddeade5b5",
   "metadata": {},
   "outputs": [
    {
     "data": {
      "text/plain": [
       "array([[5, 6],\n",
       "       [8, 9]])"
      ]
     },
     "execution_count": 30,
     "metadata": {},
     "output_type": "execute_result"
    }
   ],
   "source": [
    "arr[1:,3:]"
   ]
  },
  {
   "cell_type": "code",
   "execution_count": 31,
   "id": "203f95fd-b6e1-406e-9522-99527fb6c2b0",
   "metadata": {},
   "outputs": [
    {
     "data": {
      "text/plain": [
       "array([[4, 5],\n",
       "       [6, 8]])"
      ]
     },
     "execution_count": 31,
     "metadata": {},
     "output_type": "execute_result"
    }
   ],
   "source": [
    "arr[1:,2:4]"
   ]
  },
  {
   "cell_type": "markdown",
   "id": "a7bdbeb5-c643-4c4d-a16f-3b247b6271b7",
   "metadata": {},
   "source": [
    "## Some inbuilt functions in NumPy-"
   ]
  },
  {
   "cell_type": "code",
   "execution_count": 33,
   "id": "8ccbe38b-2e63-4ed2-8b75-2a8ee7e8ac5b",
   "metadata": {},
   "outputs": [],
   "source": [
    "arr=np.arange(0,10) #Generates a 1D array with numbers in range 0-10"
   ]
  },
  {
   "cell_type": "code",
   "execution_count": 46,
   "id": "66da8d47-e090-4f51-844b-a8a71494bb46",
   "metadata": {},
   "outputs": [
    {
     "data": {
      "text/plain": [
       "array([100, 100, 100, 100, 100])"
      ]
     },
     "execution_count": 46,
     "metadata": {},
     "output_type": "execute_result"
    }
   ],
   "source": [
    "arr"
   ]
  },
  {
   "cell_type": "code",
   "execution_count": 47,
   "id": "0357c672-ccb1-4431-bebf-ad5592f66d6b",
   "metadata": {},
   "outputs": [],
   "source": [
    "arr=np.arange(0,10,step=2) #Generates a 1D array with numbers in range 0-10 WITH A SKIP COUNT OF 2."
   ]
  },
  {
   "cell_type": "code",
   "execution_count": 48,
   "id": "1f91556a-2988-4693-8510-57fefcd3aae6",
   "metadata": {},
   "outputs": [
    {
     "data": {
      "text/plain": [
       "array([0, 2, 4, 6, 8])"
      ]
     },
     "execution_count": 48,
     "metadata": {},
     "output_type": "execute_result"
    }
   ],
   "source": [
    "arr"
   ]
  },
  {
   "cell_type": "code",
   "execution_count": 49,
   "id": "ec552346-f9b9-44e3-a824-b78d38413fb7",
   "metadata": {},
   "outputs": [
    {
     "data": {
      "text/plain": [
       "array([ 1.        ,  1.18367347,  1.36734694,  1.55102041,  1.73469388,\n",
       "        1.91836735,  2.10204082,  2.28571429,  2.46938776,  2.65306122,\n",
       "        2.83673469,  3.02040816,  3.20408163,  3.3877551 ,  3.57142857,\n",
       "        3.75510204,  3.93877551,  4.12244898,  4.30612245,  4.48979592,\n",
       "        4.67346939,  4.85714286,  5.04081633,  5.2244898 ,  5.40816327,\n",
       "        5.59183673,  5.7755102 ,  5.95918367,  6.14285714,  6.32653061,\n",
       "        6.51020408,  6.69387755,  6.87755102,  7.06122449,  7.24489796,\n",
       "        7.42857143,  7.6122449 ,  7.79591837,  7.97959184,  8.16326531,\n",
       "        8.34693878,  8.53061224,  8.71428571,  8.89795918,  9.08163265,\n",
       "        9.26530612,  9.44897959,  9.63265306,  9.81632653, 10.        ])"
      ]
     },
     "execution_count": 49,
     "metadata": {},
     "output_type": "execute_result"
    }
   ],
   "source": [
    "np.linspace(1,10,50) #To obtain 50 equally spaced points between 1 and 10"
   ]
  },
  {
   "cell_type": "code",
   "execution_count": 50,
   "id": "97c6672e-554c-4b3c-8eb6-c960f3a70f15",
   "metadata": {},
   "outputs": [],
   "source": [
    "arr[3:] = 100"
   ]
  },
  {
   "cell_type": "code",
   "execution_count": 51,
   "id": "a67e8767-453e-427f-8fbe-5a4671e488f6",
   "metadata": {},
   "outputs": [
    {
     "data": {
      "text/plain": [
       "array([  0,   2,   4, 100, 100])"
      ]
     },
     "execution_count": 51,
     "metadata": {},
     "output_type": "execute_result"
    }
   ],
   "source": [
    "#Copy function and Broadcasting\n",
    "arr1=arr\n",
    "arr1\n"
   ]
  },
  {
   "cell_type": "code",
   "execution_count": 54,
   "id": "a1518221-2739-473c-9c59-0173e9fac974",
   "metadata": {},
   "outputs": [
    {
     "name": "stdout",
     "output_type": "stream",
     "text": [
      "[  0   2   4 500 500]\n"
     ]
    }
   ],
   "source": [
    "arr[3:]=500\n",
    "print(arr1)"
   ]
  },
  {
   "cell_type": "code",
   "execution_count": 55,
   "id": "58d88258-6423-43c0-a7ed-47910879f770",
   "metadata": {},
   "outputs": [
    {
     "data": {
      "text/plain": [
       "array([  0,   2,   4, 500, 500])"
      ]
     },
     "execution_count": 55,
     "metadata": {},
     "output_type": "execute_result"
    }
   ],
   "source": [
    "arr #although we changed arr1, arr too got updated. This is called reference type"
   ]
  },
  {
   "cell_type": "code",
   "execution_count": 56,
   "id": "c0f1bd64-85aa-499d-b7c2-fc6da3f88022",
   "metadata": {},
   "outputs": [
    {
     "data": {
      "text/plain": [
       "array([[0.58273619, 0.5416965 , 0.45634967],\n",
       "       [0.34194884, 0.48455301, 0.89144738],\n",
       "       [0.24167674, 0.75659975, 0.1168596 ]])"
      ]
     },
     "execution_count": 56,
     "metadata": {},
     "output_type": "execute_result"
    }
   ],
   "source": [
    "#random distribution\n",
    "np.random.rand(3,3)"
   ]
  },
  {
   "cell_type": "code",
   "execution_count": 59,
   "id": "1546280b-c177-4d35-b327-572fc797f55c",
   "metadata": {},
   "outputs": [
    {
     "data": {
      "text/plain": [
       "array([[ 1.57754015,  1.115912  ,  0.01448714,  0.2224906 ],\n",
       "       [-0.49747518, -0.50373574, -0.26279679, -0.11265974],\n",
       "       [-0.5475415 , -2.12517009,  0.14289988, -0.13270789],\n",
       "       [-0.31438553, -0.22959209,  2.53203698, -0.57200703]])"
      ]
     },
     "execution_count": 59,
     "metadata": {},
     "output_type": "execute_result"
    }
   ],
   "source": [
    "arr_ex=np.random.randn(4,4) #based on standard normal distribution\n",
    "arr_ex"
   ]
  },
  {
   "cell_type": "code",
   "execution_count": 62,
   "id": "d7c599ff-f407-4946-8587-e91e5acbc775",
   "metadata": {},
   "outputs": [],
   "source": [
    "import seaborn as sns\n",
    "import pandas as pd"
   ]
  },
  {
   "cell_type": "code",
   "execution_count": 63,
   "id": "3f64912c-2b7b-45e2-8014-2c8644c9a3c6",
   "metadata": {},
   "outputs": [
    {
     "name": "stderr",
     "output_type": "stream",
     "text": [
      "C:\\Users\\Arnav Mehta\\AppData\\Local\\Temp\\ipykernel_24980\\1832295236.py:1: UserWarning: \n",
      "\n",
      "`distplot` is a deprecated function and will be removed in seaborn v0.14.0.\n",
      "\n",
      "Please adapt your code to use either `displot` (a figure-level function with\n",
      "similar flexibility) or `histplot` (an axes-level function for histograms).\n",
      "\n",
      "For a guide to updating your code to use the new functions, please see\n",
      "https://gist.github.com/mwaskom/de44147ed2974457ad6372750bbe5751\n",
      "\n",
      "  sns.distplot(pd.DataFrame(arr_ex.reshape(16,1)))\n"
     ]
    },
    {
     "data": {
      "text/plain": [
       "<Axes: ylabel='Density'>"
      ]
     },
     "execution_count": 63,
     "metadata": {},
     "output_type": "execute_result"
    },
    {
     "data": {
      "image/png": "[encoded data removed]",
      "text/plain": [
       "<Figure size 640x480 with 1 Axes>"
      ]
     },
     "metadata": {},
     "output_type": "display_data"
    }
   ],
   "source": [
    "sns.distplot(pd.DataFrame(arr_ex.reshape(16,1)))"
   ]
  },
  {
   "cell_type": "markdown",
   "id": "5d9f8be0-6f59-42f8-b460-f0de94d6c6d0",
   "metadata": {},
   "source": [
    "## Statistical Analysis:"
   ]
  },
  {
   "cell_type": "markdown",
   "id": "b5b1f492-9fd2-4cb9-a76b-563f65d388d6",
   "metadata": {},
   "source": [
    "#### Calculate mean, median, variance, and standard deviation of a dataset."
   ]
  },
  {
   "cell_type": "code",
   "execution_count": 67,
   "id": "63a970ed-1b8a-46a6-b709-d5ca7ecb77b6",
   "metadata": {},
   "outputs": [
    {
     "data": {
      "text/plain": [
       "array([[0.06756383, 0.79200239, 0.29633127, 0.0136274 , 0.17533512],\n",
       "       [0.12497629, 0.08316155, 0.20401166, 0.3308405 , 0.60585376],\n",
       "       [0.60428287, 0.12753201, 0.85963365, 0.67385646, 0.38702368],\n",
       "       [0.10399101, 0.11307473, 0.53615441, 0.48358241, 0.4212059 ],\n",
       "       [0.02181388, 0.7141759 , 0.50124071, 0.13138901, 0.20539526]])"
      ]
     },
     "execution_count": 67,
     "metadata": {},
     "output_type": "execute_result"
    }
   ],
   "source": [
    "arr=np.random.rand(5,5)\n",
    "arr"
   ]
  },
  {
   "cell_type": "markdown",
   "id": "f8de1749-64e8-447f-a0c8-f5ffbf5e9a1d",
   "metadata": {},
   "source": [
    "- mean:"
   ]
  },
  {
   "cell_type": "code",
   "execution_count": 68,
   "id": "1355bfa0-fe92-454e-9b5f-f6452acbc521",
   "metadata": {},
   "outputs": [
    {
     "name": "stdout",
     "output_type": "stream",
     "text": [
      "Mean:  0.3431222256986365\n"
     ]
    }
   ],
   "source": [
    "mean=np.mean(arr)\n",
    "print(\"Mean: \",mean)"
   ]
  },
  {
   "cell_type": "markdown",
   "id": "9bcddfb3-14c4-4089-b2a8-293ef5bda7e4",
   "metadata": {},
   "source": [
    "- median:"
   ]
  },
  {
   "cell_type": "code",
   "execution_count": 70,
   "id": "0066a9a6-3f44-45ad-bc20-1704e09c5f71",
   "metadata": {},
   "outputs": [
    {
     "name": "stdout",
     "output_type": "stream",
     "text": [
      "Median:  0.29633127135728876\n"
     ]
    }
   ],
   "source": [
    "median=np.median(arr)\n",
    "print(\"Median: \",median)"
   ]
  },
  {
   "cell_type": "markdown",
   "id": "503487fa-d6aa-467b-88e5-71c3c8665648",
   "metadata": {},
   "source": [
    "- variance:"
   ]
  },
  {
   "cell_type": "code",
   "execution_count": 72,
   "id": "f166ec65-278d-498e-956b-2bbe61f261f7",
   "metadata": {},
   "outputs": [
    {
     "name": "stdout",
     "output_type": "stream",
     "text": [
      "Variance:  0.06462907679354629\n"
     ]
    }
   ],
   "source": [
    "variance= np.var(arr)\n",
    "print(\"Variance: \", variance)"
   ]
  },
  {
   "cell_type": "markdown",
   "id": "bda63d61-06d8-4f8e-bc31-6c772a6ee946",
   "metadata": {},
   "source": [
    "- Standard Deviation:"
   ]
  },
  {
   "cell_type": "code",
   "execution_count": 73,
   "id": "3444044b-6bab-43f5-93d0-67583086bcf7",
   "metadata": {},
   "outputs": [
    {
     "name": "stdout",
     "output_type": "stream",
     "text": [
      "Standard deviation 0.25422249466470564\n"
     ]
    }
   ],
   "source": [
    "std=np.std(arr)\n",
    "print(\"Standard deviation\", std)"
   ]
  },
  {
   "cell_type": "markdown",
   "id": "4b2f1cfb-3b9d-42d2-ac72-b53f51f23671",
   "metadata": {},
   "source": [
    "## Matrix Operations:"
   ]
  },
  {
   "cell_type": "markdown",
   "id": "eb8d094a-4c80-49a9-80cb-ee27f172a710",
   "metadata": {},
   "source": [
    "#### Implement basic matrix operations such as matrix multiplication, transpose, and inverse."
   ]
  },
  {
   "cell_type": "code",
   "execution_count": 82,
   "id": "0941cbb4-0d77-44fe-88e4-a1620682cfeb",
   "metadata": {},
   "outputs": [
    {
     "name": "stdout",
     "output_type": "stream",
     "text": [
      "A= [[0.01 0.94]\n",
      " [0.17 0.35]]  and B= [[0.18 0.02]\n",
      " [0.97 0.2 ]]\n"
     ]
    }
   ],
   "source": [
    "A=np.round(np.random.rand(2,2),2)\n",
    "B=np.round(np.random.rand(2,2),2)\n",
    "print(\"A=\",A,\" and B=\",B)"
   ]
  },
  {
   "cell_type": "markdown",
   "id": "bd7ed765-5035-444f-b53d-6566a617f526",
   "metadata": {},
   "source": [
    "- Matrix Multiplication"
   ]
  },
  {
   "cell_type": "code",
   "execution_count": 92,
   "id": "f3764f69-4de9-4f45-99fc-13008c24a6fe",
   "metadata": {},
   "outputs": [
    {
     "name": "stdout",
     "output_type": "stream",
     "text": [
      "Matrix Multiplication using np.dot():  [[0.9136 0.1882]\n",
      " [0.3701 0.0734]]\n",
      "Matrix Multiplication using @ method:  [[0.9136 0.1882]\n",
      " [0.3701 0.0734]]\n"
     ]
    }
   ],
   "source": [
    "# 1. By np.dot method:\n",
    "m1=np.dot(A,B)\n",
    "print(\"Matrix Multiplication using np.dot(): \",m1)\n",
    "# 2. By @ method:\n",
    "m2=A@B\n",
    "print(\"Matrix Multiplication using @ method: \",m2)"
   ]
  },
  {
   "cell_type": "markdown",
   "id": "50aa9a00-9e5a-4a07-8d0f-c565e610c120",
   "metadata": {},
   "source": [
    "- Transpose:"
   ]
  },
  {
   "cell_type": "code",
   "execution_count": 88,
   "id": "14588888-47ac-4640-92ee-c6e491662f38",
   "metadata": {},
   "outputs": [
    {
     "name": "stdout",
     "output_type": "stream",
     "text": [
      "Transpose of A using np.transpose():\n",
      " [[0.01 0.17]\n",
      " [0.94 0.35]]\n",
      "Transpose of A using .T attribute:\n",
      " [[0.01 0.17]\n",
      " [0.94 0.35]]\n"
     ]
    }
   ],
   "source": [
    "# By transpose(A) method:\n",
    "transpose_A = np.transpose(A)\n",
    "print(\"Transpose of A using np.transpose():\\n\", transpose_A)\n",
    "# By A.T method:\n",
    "transpose_A_T = A.T\n",
    "print(\"Transpose of A using .T attribute:\\n\", transpose_A_T)"
   ]
  },
  {
   "cell_type": "markdown",
   "id": "72368385-97ac-42d8-8c90-1f3ef33f5c9a",
   "metadata": {},
   "source": [
    "- Inverse:"
   ]
  },
  {
   "cell_type": "code",
   "execution_count": 89,
   "id": "d930c028-3961-4b92-bb79-1b17accaccc8",
   "metadata": {},
   "outputs": [
    {
     "name": "stdout",
     "output_type": "stream",
     "text": [
      "Inverse of A:\n",
      " [[-2.23928343  6.0140755 ]\n",
      " [ 1.08765195 -0.06397953]]\n"
     ]
    }
   ],
   "source": [
    "inverse_A = np.linalg.inv(A)\n",
    "print(\"Inverse of A:\\n\", inverse_A)"
   ]
  },
  {
   "cell_type": "code",
   "execution_count": null,
   "id": "7dcd6820-23d3-4914-9a12-d307fb6e9b5e",
   "metadata": {},
   "outputs": [],
   "source": []
  }
 ],
 "metadata": {
  "kernelspec": {
   "display_name": "Python 3 (ipykernel)",
   "language": "python",
   "name": "python3"
  },
  "language_info": {
   "codemirror_mode": {
    "name": "ipython",
    "version": 3
   },
   "file_extension": ".py",
   "mimetype": "text/x-python",
   "name": "python",
   "nbconvert_exporter": "python",
   "pygments_lexer": "ipython3",
   "version": "3.12.4"
  }
 },
 "nbformat": 4,
 "nbformat_minor": 5
}
